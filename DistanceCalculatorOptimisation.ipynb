{
  "nbformat": 4,
  "nbformat_minor": 5,
  "metadata": {
    "kernelspec": {
      "display_name": "Python 3",
      "language": "python",
      "name": "python3"
    },
    "language_info": {
      "codemirror_mode": {
        "name": "ipython",
        "version": 3
      },
      "file_extension": ".py",
      "mimetype": "text/x-python",
      "name": "python",
      "nbconvert_exporter": "python",
      "pygments_lexer": "ipython3",
      "version": "3.8.5"
    },
    "colab": {
      "name": "DistanceCalculatorOptimisation.ipynb",
      "provenance": [],
      "collapsed_sections": [],
      "include_colab_link": true
    }
  },
  "cells": [
    {
      "cell_type": "markdown",
      "metadata": {
        "id": "view-in-github",
        "colab_type": "text"
      },
      "source": [
        "<a href=\"https://colab.research.google.com/github/RorisangSitoboli/Optimization/blob/main/DistanceCalculatorOptimisation.ipynb\" target=\"_parent\"><img src=\"https://colab.research.google.com/assets/colab-badge.svg\" alt=\"Open In Colab\"/></a>"
      ]
    },
    {
      "cell_type": "code",
      "metadata": {
        "id": "fixed-syntax"
      },
      "source": [
        "# Import required libraries\n",
        "import math\n",
        "import numpy as np\n",
        "import numpy as np\n",
        "import pandas as pd\n",
        "import matplotlib.pyplot as plt\n",
        "import seaborn as sns\n",
        "import scipy.stats as stats\n",
        "import sklearn"
      ],
      "id": "fixed-syntax",
      "execution_count": 1,
      "outputs": []
    },
    {
      "cell_type": "code",
      "metadata": {
        "id": "dependent-saying"
      },
      "source": [
        "# Example 2D coordinates\n",
        "p = [8, 5]\n",
        "q = [3, 4]"
      ],
      "id": "dependent-saying",
      "execution_count": 2,
      "outputs": []
    },
    {
      "cell_type": "code",
      "metadata": {
        "colab": {
          "base_uri": "https://localhost:8080/",
          "height": 37
        },
        "id": "otherwise-moses",
        "outputId": "9b85bf17-fa32-4293-ec75-0744a4354c72"
      },
      "source": [
        "''' Use the Math library for quick and easy Eucliden distance calculation.\n",
        "Available only in Python 3.8 and up'''\n",
        "\n",
        "#print (math.dist(p, q))"
      ],
      "id": "otherwise-moses",
      "execution_count": 3,
      "outputs": [
        {
          "output_type": "execute_result",
          "data": {
            "application/vnd.google.colaboratory.intrinsic+json": {
              "type": "string"
            },
            "text/plain": [
              "' Use the Math library for quick and easy Eucliden distance calculation.\\nAvailable only in Python 3.8 and up'"
            ]
          },
          "metadata": {
            "tags": []
          },
          "execution_count": 3
        }
      ]
    },
    {
      "cell_type": "code",
      "metadata": {
        "id": "agreed-display"
      },
      "source": [
        "# Function that uses SciPy to calculate the shortest distance from user defined point to multiple points stored in array.\n",
        "from scipy.spatial.distance import cdist\n",
        "def shortest_distance(x, y):\n",
        "    origin_point = np.array([[x,y]])\n",
        "    target_points = np.array([[1,0], [2,3], [4,3]])\n",
        "    d = cdist(origin_point, target_points)\n",
        "    return d"
      ],
      "id": "agreed-display",
      "execution_count": 4,
      "outputs": []
    },
    {
      "cell_type": "code",
      "metadata": {
        "colab": {
          "base_uri": "https://localhost:8080/"
        },
        "id": "legendary-memorial",
        "outputId": "d2a3fe10-9135-40ca-8fb4-1b22dcdc957c"
      },
      "source": [
        "# Shortest distance from origin of each of the target_points listed directly above.\n",
        "shortest_distance(0,0)"
      ],
      "id": "legendary-memorial",
      "execution_count": 5,
      "outputs": [
        {
          "output_type": "execute_result",
          "data": {
            "text/plain": [
              "array([[1.        , 3.60555128, 5.        ]])"
            ]
          },
          "metadata": {
            "tags": []
          },
          "execution_count": 5
        }
      ]
    },
    {
      "cell_type": "code",
      "metadata": {
        "id": "apart-alberta"
      },
      "source": [
        "# User-defined arrays to store 3D points \n",
        "a = np.array([[2., 3., 8.], [10., 4., 3.], [58., 3., 4.], [34., 2., 43.]])\n",
        "b = np.array([[1, 0, 7], [2, 3, 6], [4, 3, 8]])\n",
        "c = np.array([[1, 0, 0], [2, 3, 0], [4, 3, 0]])"
      ],
      "id": "apart-alberta",
      "execution_count": 6,
      "outputs": []
    },
    {
      "cell_type": "code",
      "metadata": {
        "colab": {
          "base_uri": "https://localhost:8080/"
        },
        "id": "original-criterion",
        "outputId": "b7508da2-ef2b-4066-d06a-5be5ecf21d2a"
      },
      "source": [
        "# Use Nelder–Mead method in scipy.optimize function (large selection of optimizers to choose from). The output array is the point that minimizes the sum distance to all other points.\n",
        "from scipy.optimize import minimize\n",
        "x = [point[0] for point in a]\n",
        "y = [point[1] for point in a]\n",
        "z = [point[2] for point in a]\n",
        "\n",
        "x0 = np.array([sum(x)/len(x),sum(y)/len(y), sum(z)/len(z)])\n",
        "# User defined function.\n",
        "def dist_func(x0):\n",
        "    return sum(((np.full(len(x),x0[0])-x)**2+(np.full(len(x),x0[1])-y)**2+(np.full(len(x),x0[2])-z)**2)**(1/2))\n",
        "res = minimize(dist_func, x0, method='nelder-mead', options={'xtol': 1e-8, 'disp': True})\n",
        "res.x"
      ],
      "id": "original-criterion",
      "execution_count": 7,
      "outputs": [
        {
          "output_type": "stream",
          "text": [
            "Optimization terminated successfully.\n",
            "         Current function value: 102.856804\n",
            "         Iterations: 134\n",
            "         Function evaluations: 256\n"
          ],
          "name": "stdout"
        },
        {
          "output_type": "execute_result",
          "data": {
            "text/plain": [
              "array([12.58942487,  3.51573846,  7.28710679])"
            ]
          },
          "metadata": {
            "tags": []
          },
          "execution_count": 7
        }
      ]
    },
    {
      "cell_type": "code",
      "metadata": {
        "id": "Wq1V0E4fOJfM"
      },
      "source": [
        "# Define single function to calculate the point that minimizes the sum distance to all other points.\n",
        "# Use Nelder–Mead method in scipy.optimize function (large selection of optimizers to choose from). The output array is the point that minimizes the sum distance to all other points.\n",
        "\n",
        "from scipy.optimize import minimize\n",
        "def min_dist(array_name):\n",
        "    x = [point[0] for point in array_name]\n",
        "    y = [point[1] for point in array_name]\n",
        "    z = [point[2] for point in array_name]\n",
        "\n",
        "    x0 = np.array([sum(x)/len(x),sum(y)/len(y), sum(z)/len(z)])\n",
        "    # User defined function.\n",
        "    def dist_func(x0):\n",
        "        return sum(((np.full(len(x),x0[0])-x)**2+(np.full(len(x),x0[1])-y)**2+(np.full(len(x),x0[2])-z)**2)**(1/2))\n",
        "    res = minimize(dist_func, x0, method='nelder-mead', options={'xtol': 1e-8, 'disp': True})\n",
        "    print(res.x)"
      ],
      "id": "Wq1V0E4fOJfM",
      "execution_count": 8,
      "outputs": []
    },
    {
      "cell_type": "code",
      "metadata": {
        "colab": {
          "base_uri": "https://localhost:8080/"
        },
        "id": "Psk7MRZ2O57p",
        "outputId": "a1e3004e-c5e3-4d8b-e6b7-3f783eacc8a8"
      },
      "source": [
        "min_dist(a)"
      ],
      "id": "Psk7MRZ2O57p",
      "execution_count": 9,
      "outputs": [
        {
          "output_type": "stream",
          "text": [
            "Optimization terminated successfully.\n",
            "         Current function value: 102.856804\n",
            "         Iterations: 134\n",
            "         Function evaluations: 256\n",
            "[12.58942487  3.51573846  7.28710679]\n"
          ],
          "name": "stdout"
        }
      ]
    },
    {
      "cell_type": "code",
      "metadata": {
        "colab": {
          "base_uri": "https://localhost:8080/"
        },
        "id": "jC4ejZXBPBh7",
        "outputId": "88c5305b-7af1-4138-e427-38f2f2dfb403"
      },
      "source": [
        "min_dist(b)"
      ],
      "id": "jC4ejZXBPBh7",
      "execution_count": 10,
      "outputs": [
        {
          "output_type": "stream",
          "text": [
            "Optimization terminated successfully.\n",
            "         Current function value: 5.937009\n",
            "         Iterations: 104\n",
            "         Function evaluations: 194\n",
            "[2.27541965 2.42907413 6.65603688]\n"
          ],
          "name": "stdout"
        }
      ]
    },
    {
      "cell_type": "code",
      "metadata": {
        "colab": {
          "base_uri": "https://localhost:8080/"
        },
        "id": "rZ2anXy8Pifc",
        "outputId": "0558b5c5-73c6-4114-870d-6b1b11ce10ad"
      },
      "source": [
        "min_dist(c)"
      ],
      "id": "rZ2anXy8Pifc",
      "execution_count": 11,
      "outputs": [
        {
          "output_type": "stream",
          "text": [
            "Optimization terminated successfully.\n",
            "         Current function value: 5.137344\n",
            "         Iterations: 140\n",
            "         Function evaluations: 262\n",
            "[2.17186440e+00 2.77266102e+00 1.22064816e-08]\n"
          ],
          "name": "stdout"
        }
      ]
    }
  ]
}